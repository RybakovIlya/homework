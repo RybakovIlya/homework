{
 "cells": [
  {
   "cell_type": "code",
   "execution_count": 13,
   "metadata": {},
   "outputs": [],
   "source": [
    "import  numpy as np\n",
    "import pandas as pd"
   ]
  },
  {
   "cell_type": "markdown",
   "metadata": {},
   "source": [
    "# methods of creating np objects"
   ]
  },
  {
   "cell_type": "code",
   "execution_count": 7,
   "metadata": {},
   "outputs": [
    {
     "name": "stdout",
     "output_type": "stream",
     "text": [
      "<class 'numpy.ndarray'> [1 2 3]\n"
     ]
    }
   ],
   "source": [
    "#creating from list\n",
    "ar = np.array([1,2,3])\n",
    "print(type(ar), ar)"
   ]
  },
  {
   "cell_type": "code",
   "execution_count": 12,
   "metadata": {},
   "outputs": [
    {
     "name": "stdout",
     "output_type": "stream",
     "text": [
      "[[1 2 3]\n",
      " [4 5 6]\n",
      " [7 8 9]]\n",
      "<class 'numpy.ndarray'>\n"
     ]
    }
   ],
   "source": [
    "#creating from ist of lists\n",
    "ar = np.array([[1,2,3],[4,5,6],[7,8,9]])\n",
    "print(ar)\n",
    "print(type(ar))"
   ]
  },
  {
   "cell_type": "code",
   "execution_count": 19,
   "metadata": {},
   "outputs": [
    {
     "data": {
      "text/plain": [
       "array([ 5,  6,  7,  8,  9, 10], dtype=int64)"
      ]
     },
     "execution_count": 19,
     "metadata": {},
     "output_type": "execute_result"
    }
   ],
   "source": [
    "#creating from Series with \".values\"\n",
    "ser = pd.Series([5, 6, 7, 8, 9, 10])\n",
    "ser.values"
   ]
  },
  {
   "cell_type": "code",
   "execution_count": 32,
   "metadata": {},
   "outputs": [
    {
     "data": {
      "text/plain": [
       "array([[8, 3, 4, 1],\n",
       "       [5, 2, 8, 0],\n",
       "       [6, 3, 6, 4]])"
      ]
     },
     "execution_count": 32,
     "metadata": {},
     "output_type": "execute_result"
    }
   ],
   "source": [
    "np.empty(5) #creating empty array for 5 values\n",
    "np.zeros((10, 7)) #creating array with 10 rows and 7 columns\n",
    "np.ones((3,3,3)) #creating array with 3 directions, values = 1\n",
    "np.eye(3) #array 3x3 with non-null values placed at diagonal\n",
    "X = 33 \n",
    "np.full((3, 5), X) #array with 3 rows and 5 columns filled by 'X'\n",
    "np.arange(0, 21, 7)  # array filled with numbers in rage from 0 to 21 with step 7\n",
    "np.linspace(0, 1, 5) #array with 5 elements in range from 0 to 1, cut range by equal parts\n",
    "np.random.randint(0, 10, (3, 4)) #array 3x4 with random values in range from 0 to 10 (10 excluded!!!)"
   ]
  },
  {
   "cell_type": "code",
   "execution_count": 122,
   "metadata": {},
   "outputs": [
    {
     "data": {
      "text/plain": [
       "array([1, 3, 5, 7, 9])"
      ]
     },
     "execution_count": 122,
     "metadata": {},
     "output_type": "execute_result"
    }
   ],
   "source": [
    "#creating np array based on list and generator\n",
    "my_list = [x for x in range(1, 301, 7) if x%10 == 7 or x%10 == 1]\n",
    "np.array([my_list, [x/2 for x in my_list], [x-100 for x in my_list]])\n",
    "#and one more\n",
    "np.array([i for i in range(11) if i%2])"
   ]
  },
  {
   "cell_type": "markdown",
   "metadata": {},
   "source": [
    "# methods getting data about NP object:"
   ]
  },
  {
   "cell_type": "code",
   "execution_count": 9,
   "metadata": {},
   "outputs": [
    {
     "data": {
      "text/plain": [
       "(3, 3)"
      ]
     },
     "execution_count": 9,
     "metadata": {},
     "output_type": "execute_result"
    }
   ],
   "source": [
    "#show number of rows and columns in array \n",
    "np.shape(ar)"
   ]
  },
  {
   "cell_type": "code",
   "execution_count": 121,
   "metadata": {},
   "outputs": [
    {
     "data": {
      "text/plain": [
       "9"
      ]
     },
     "execution_count": 121,
     "metadata": {},
     "output_type": "execute_result"
    }
   ],
   "source": [
    "#number of elements in array\n",
    "ar.size"
   ]
  },
  {
   "cell_type": "markdown",
   "metadata": {},
   "source": [
    "## working with index"
   ]
  },
  {
   "cell_type": "code",
   "execution_count": 59,
   "metadata": {},
   "outputs": [
    {
     "data": {
      "text/plain": [
       "array([1, 4, 7])"
      ]
     },
     "execution_count": 59,
     "metadata": {},
     "output_type": "execute_result"
    }
   ],
   "source": [
    "my_array = np.array([x for x in range(10)]) #to get value(s) need input index or slice\n",
    "my_array[5]\n",
    "my_array[-1]\n",
    "my_array[3:6]\n",
    "my_array[1:8:3]"
   ]
  },
  {
   "cell_type": "code",
   "execution_count": 60,
   "metadata": {},
   "outputs": [
    {
     "data": {
      "text/plain": [
       "12"
      ]
     },
     "execution_count": 60,
     "metadata": {},
     "output_type": "execute_result"
    }
   ],
   "source": [
    "my_array = np.array([[1,2,3,4], [10,11,12,13], [45,46,47,48]]) #for two dimentional arrays can be used doubled [] or index input with ','\n",
    "my_array[1][2]\n",
    "my_array[1,2]"
   ]
  },
  {
   "cell_type": "markdown",
   "metadata": {},
   "source": [
    "## examples"
   ]
  },
  {
   "cell_type": "code",
   "execution_count": 63,
   "metadata": {},
   "outputs": [
    {
     "data": {
      "text/plain": [
       "array([ 294.       ,   33.1662479, 2500.       ,   33.1662479,\n",
       "        294.       ])"
      ]
     },
     "execution_count": 63,
     "metadata": {},
     "output_type": "execute_result"
    }
   ],
   "source": [
    "#Unit 2 Chapter 9\n",
    "first_line = [x*y for x in range(2, 100, 6) for y in range (7, 1, -2)]\n",
    "second_line = [x ** 0.5 for x in range(1000, 1101, 2)]\n",
    "third_line = [x**2 for x in range(51)]\n",
    "\n",
    "big_secret = np.array([first_line, second_line, third_line, second_line, first_line])\n"
   ]
  },
  {
   "cell_type": "code",
   "execution_count": 64,
   "metadata": {},
   "outputs": [
    {
     "data": {
      "text/plain": [
       "3154.332495807108"
      ]
     },
     "execution_count": 64,
     "metadata": {},
     "output_type": "execute_result"
    }
   ],
   "source": [
    "#to sum elements of last column\n",
    "big_secret[:,-1].sum()"
   ]
  },
  {
   "cell_type": "code",
   "execution_count": 65,
   "metadata": {},
   "outputs": [
    {
     "data": {
      "text/plain": [
       "array([[14.        , 10.        ,  6.        , 56.        , 40.        ],\n",
       "       [31.6227766 , 31.65438358, 31.68595904, 31.71750305, 31.74901573],\n",
       "       [ 0.        ,  1.        ,  4.        ,  9.        , 16.        ],\n",
       "       [31.6227766 , 31.65438358, 31.68595904, 31.71750305, 31.74901573],\n",
       "       [14.        , 10.        ,  6.        , 56.        , 40.        ]])"
      ]
     },
     "execution_count": 65,
     "metadata": {},
     "output_type": "execute_result"
    }
   ],
   "source": [
    "#to sum elements placed on digonal of array based on first 5 elements of 'big..'\n",
    "\n",
    "Sum = 0\n",
    "BS = np.array(big_secret[:5,:5]) #creating sub-array 5x5 by slicing o:5\n",
    "for i in range(len(BS)):\n",
    "    Sum += BS[i,i]\n",
    "Sum"
   ]
  },
  {
   "cell_type": "code",
   "execution_count": 97,
   "metadata": {},
   "outputs": [
    {
     "data": {
      "text/plain": [
       "341505315559.2347"
      ]
     },
     "execution_count": 97,
     "metadata": {},
     "output_type": "execute_result"
    }
   ],
   "source": [
    "#to multiplay elements placed on digonal of array based on last 5 elements of 'big..'\n",
    "mult = 1\n",
    "BS = np.array(big_secret[:,-5:]) #creating sub-array 5x5 by slicing from -5 up to end\n",
    "for i in range(len(BS)):\n",
    "    mult *= BS[i,i]\n",
    "mult\n"
   ]
  },
  {
   "cell_type": "code",
   "execution_count": 115,
   "metadata": {},
   "outputs": [
    {
     "data": {
      "text/plain": [
       "array([[-1.        , 10.        , -1.        , 56.        , -1.        ],\n",
       "       [31.6227766 ,  1.        , 31.68595904,  1.        , 31.74901573],\n",
       "       [-1.        ,  1.        , -1.        ,  9.        , -1.        ],\n",
       "       [31.6227766 ,  1.        , 31.68595904,  1.        , 31.74901573],\n",
       "       [-1.        , 10.        , -1.        , 56.        , -1.        ]])"
      ]
     },
     "execution_count": 115,
     "metadata": {},
     "output_type": "execute_result"
    }
   ],
   "source": [
    "#change all elements with both even indexes to -1, and to 1 if both indexes are odd number\n",
    "for i in range(len(big_secret[:,1])):\n",
    "    for j in range(len(big_secret[1,:])):\n",
    "        if i%2 and j%2:\n",
    "            big_secret[i,j] = 1\n",
    "        elif i%2 == 0 and j%2 == 0:\n",
    "            big_secret[i,j] = -1\n",
    "big_secret[:5,:5]"
   ]
  },
  {
   "cell_type": "code",
   "execution_count": 118,
   "metadata": {},
   "outputs": [
    {
     "data": {
      "text/plain": [
       "array([[-1.        , 10.        , -1.        , 56.        , -1.        ],\n",
       "       [31.6227766 ,  1.        , 31.68595904,  1.        , 31.74901573],\n",
       "       [-1.        ,  1.        , -1.        ,  9.        , -1.        ],\n",
       "       [31.6227766 ,  1.        , 31.68595904,  1.        , 31.74901573],\n",
       "       [-1.        , 10.        , -1.        , 56.        , -1.        ]])"
      ]
     },
     "execution_count": 118,
     "metadata": {},
     "output_type": "execute_result"
    }
   ],
   "source": [
    "first_line = [x*y for x in range(2, 100, 6) for y in range (7, 1, -2)]\n",
    "second_line = [x ** 0.5 for x in range(1000, 1101, 2)]\n",
    "third_line = [x**2 for x in range(51)]\n",
    "\n",
    "#same thing as above but using slicing method\n",
    "\n",
    "big_secret = np.array([first_line, second_line, third_line, second_line, first_line])\n",
    "big_secret[0::2,0::2]=-1\n",
    "big_secret[1::2, 1::2]=1\n",
    "big_secret[:5,:5]"
   ]
  },
  {
   "cell_type": "code",
   "execution_count": 119,
   "metadata": {},
   "outputs": [
    {
     "data": {
      "text/plain": [
       "-1.0"
      ]
     },
     "execution_count": 119,
     "metadata": {},
     "output_type": "execute_result"
    }
   ],
   "source": [
    "#to multiplay elements placed on digonal of array based on last 5 elements of 'big..'\n",
    "mult = 1\n",
    "BS = np.array(big_secret[:,-5:]) #creating sub-array 5x5 by slicing from -5 up to end\n",
    "for i in range(len(BS)):\n",
    "    mult *= BS[i,i]\n",
    "mult"
   ]
  },
  {
   "cell_type": "markdown",
   "metadata": {},
   "source": [
    "## Math methods with arrays"
   ]
  },
  {
   "cell_type": "code",
   "execution_count": 129,
   "metadata": {},
   "outputs": [
    {
     "name": "stdout",
     "output_type": "stream",
     "text": [
      "Sum: [15 21 27]\n",
      "Subtraction: [9 9 9]\n",
      "Multiply: [ 36  90 162]\n",
      "Division: [0.25 0.4  0.5 ]\n",
      "Multiply with constant: [ 6 12 18]\n"
     ]
    }
   ],
   "source": [
    "a = np.array([3,6,9])\n",
    "b = np.array([12,15,18])\n",
    "\n",
    "result1 = a+b\n",
    "result2 = b-a\n",
    "result3 = a*b #multiplying elemnt per element\n",
    "result4 = a/b\n",
    "result5 = a*2\n",
    "print('Sum: {}\\nSubtraction: {}\\nMultiply: {}\\nDivision: {}\\nMultiply with constant: {}'.format(result1, result2, result3, result4, result5))"
   ]
  },
  {
   "cell_type": "code",
   "execution_count": 130,
   "metadata": {},
   "outputs": [
    {
     "data": {
      "text/plain": [
       "array([[ 1,  6],\n",
       "       [ 2,  7],\n",
       "       [ 3,  8],\n",
       "       [ 4,  9],\n",
       "       [ 5, 10]])"
      ]
     },
     "execution_count": 130,
     "metadata": {},
     "output_type": "execute_result"
    }
   ],
   "source": [
    "#transpose\n",
    "my_array = np.array([[1,2,3,4,5], [6,7,8,9,10]])\n",
    "my_array.T"
   ]
  },
  {
   "cell_type": "code",
   "execution_count": 131,
   "metadata": {},
   "outputs": [
    {
     "data": {
      "text/plain": [
       "array([[2, 9, 7, 8, 8],\n",
       "       [8, 8, 8, 0, 1],\n",
       "       [9, 1, 0, 9, 2],\n",
       "       [4, 8, 1, 0, 3]])"
      ]
     },
     "execution_count": 131,
     "metadata": {},
     "output_type": "execute_result"
    }
   ],
   "source": [
    "my_array = np.random.randint(0, 10, 20)\n",
    "my_array.reshape((4,5))"
   ]
  },
  {
   "cell_type": "code",
   "execution_count": null,
   "metadata": {},
   "outputs": [],
   "source": []
  }
 ],
 "metadata": {
  "kernelspec": {
   "display_name": "Python 3",
   "language": "python",
   "name": "python3"
  },
  "language_info": {
   "codemirror_mode": {
    "name": "ipython",
    "version": 3
   },
   "file_extension": ".py",
   "mimetype": "text/x-python",
   "name": "python",
   "nbconvert_exporter": "python",
   "pygments_lexer": "ipython3",
   "version": "3.7.4"
  }
 },
 "nbformat": 4,
 "nbformat_minor": 2
}
